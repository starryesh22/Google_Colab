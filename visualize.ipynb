{
  "nbformat": 4,
  "nbformat_minor": 0,
  "metadata": {
    "colab": {
      "provenance": [],
      "authorship_tag": "ABX9TyNO1ZQOHlLTi2pgLzRqJJCV",
      "include_colab_link": true
    },
    "kernelspec": {
      "name": "python3",
      "display_name": "Python 3"
    },
    "language_info": {
      "name": "python"
    }
  },
  "cells": [
    {
      "cell_type": "markdown",
      "metadata": {
        "id": "view-in-github",
        "colab_type": "text"
      },
      "source": [
        "<a href=\"https://colab.research.google.com/github/starryesh22/Test_Colab/blob/main/visualize.ipynb\" target=\"_parent\"><img src=\"https://colab.research.google.com/assets/colab-badge.svg\" alt=\"Open In Colab\"/></a>"
      ]
    },
    {
      "cell_type": "code",
      "execution_count": null,
      "metadata": {
        "id": "RYqx-Cyn7zC2"
      },
      "outputs": [],
      "source": [
        "import argparse\n",
        "import os\n",
        "from glob import glob\n",
        "\n",
        "import matplotlib.pyplot as plt\n",
        "import wfdb\n",
        "from tqdm import tqdm\n",
        "\n",
        "\n",
        "def plot_ecg(leads, data, title):\n",
        "    n_cols = 1\n",
        "    n_rows = len(leads) // n_cols\n",
        "    f, axs = plt.subplots(nrows=n_rows, ncols=n_cols, figsize=(12, 16))\n",
        "    for i in range(n_rows):\n",
        "        axs[i].plot(data[i])\n",
        "        axs[i].spines['top'].set_visible(False)\n",
        "        axs[i].spines['right'].set_visible(False)\n",
        "        axs[i].set_xticks([])\n",
        "        axs[i].set_yticks([])\n",
        "        axs[i].set_ylabel(leads[i])\n",
        "        yabs_max = abs(max(axs[i].get_ylim(), key=abs))\n",
        "        axs[i].set_ylim(ymin=-yabs_max, ymax=yabs_max)\n",
        "    plt.savefig(f'imgs/{title}.png')\n",
        "    plt.close(f)\n",
        "\n",
        "\n",
        "def plot_ecg2(leads, data, title):\n",
        "    n_cols=2\n",
        "    n_rows = len(leads) // n_cols\n",
        "    f, axs = plt.subplots(nrows=n_rows, ncols=n_cols, figsize=(12, 8))\n",
        "    for j in range(n_rows):\n",
        "        for i in range(n_cols):\n",
        "            axs[j, i].plot(data[i * n_rows + j])\n",
        "            axs[j, i].spines['top'].set_visible(False)\n",
        "            axs[j, i].spines['right'].set_visible(False)\n",
        "            axs[j, i].set_xticks([])\n",
        "            axs[j, i].set_yticks([])\n",
        "            axs[j, i].set_ylabel(leads[i * n_rows + j])\n",
        "            yabs_max = abs(max(axs[j, i].get_ylim(), key=abs))\n",
        "            axs[j, i].set_ylim(ymin=-yabs_max, ymax=yabs_max)\n",
        "    plt.savefig(f'imgs/{title}-c2.png')\n",
        "    plt.close(f)\n",
        "\n",
        "\n",
        "if __name__ == \"__main__\":\n",
        "    parser = argparse.ArgumentParser()\n",
        "    parser.add_argument('--record-paths', type=str, default='data/CPSC/A0010.mat', help='Path to .mat file')\n",
        "    args = parser.parse_args()\n",
        "    recordpaths = glob(args.record_paths)\n",
        "    for mat_file in tqdm(recordpaths):\n",
        "        if mat_file.endswith('.mat') or mat_file.endswith('.hea'):\n",
        "            mat_file = mat_file[:-4]\n",
        "        patient_id = os.path.basename(mat_file)\n",
        "        ecg_data, meta_data = wfdb.rdsamp(mat_file)\n",
        "        leads = meta_data['sig_name']\n",
        "        plot_ecg(leads=leads, data=ecg_data.T, title=os.path.basename(mat_file))\n",
        "        plot_ecg2(leads=leads, data=ecg_data.T, title=os.path.basename(mat_file))"
      ]
    }
  ]
}