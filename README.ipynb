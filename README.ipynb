{
  "nbformat": 4,
  "nbformat_minor": 0,
  "metadata": {
    "colab": {
      "provenance": [],
      "authorship_tag": "ABX9TyNYf6Mlhchq6UumaXeovkhG",
      "include_colab_link": true
    },
    "kernelspec": {
      "name": "python3",
      "display_name": "Python 3"
    },
    "language_info": {
      "name": "python"
    }
  },
  "cells": [
    {
      "cell_type": "markdown",
      "metadata": {
        "id": "view-in-github",
        "colab_type": "text"
      },
      "source": [
        "<a href=\"https://colab.research.google.com/github/starryesh22/Test_Colab/blob/main/README.ipynb\" target=\"_parent\"><img src=\"https://colab.research.google.com/assets/colab-badge.svg\" alt=\"Open In Colab\"/></a>"
      ]
    },
    {
      "cell_type": "code",
      "execution_count": null,
      "metadata": {
        "id": "mCb1fz7A8w2f"
      },
      "outputs": [],
      "source": [
        "# Interpretable Deep Learning for Automatic Diagnosis of 12-lead Electrocardiogram\n",
        "\n",
        "This repository contains code for *Interpretable Deep Learning for Automatic Diagnosis of 12-lead Electrocardiogram*. Electrocardiogram (ECG) is a widely used reliable, non-invasive approach for cardiovascular disease diagnosis. With the rapid growth of ECG examinations and the insufficiency of cardiologists, accurately automatic diagnosis of ECG signals has become a hot research topic. Deep learning methods have demonstrated promising results in predictive healthcare tasks. In this work, we developed a deep neural network for multi-label classification of cardiac arrhythmias in 12-lead ECG records. Experiments on a public 12-lead ECG dataset showed the effectiveness of our method. The proposed model achieved an average area under the receiver operating characteristic curve (AUC) of 0.970 and an average F1 score of 0.813. Using single-lead ECG as model input produced lower performance than using all 12 leads. The best-performing leads are lead I, aVR, and V5 among 12 leads. Finally, we employed the SHapley Additive exPlanations (SHAP) method to interpret the model's behavior at both patient-level and population-level.\n",
        "\n",
        "## Model Architecture\n",
        "\n",
        "<img src=\"https://imgur.com/BIvuVUc.png\" width=\"300\">\n",
        "\n",
        "> Deep neural network architecture for cardiac arrhythimas diagnosis.\n",
        "\n",
        "## Requirement\n",
        "\n",
        "### Dataset\n",
        "\n",
        "The 12-lead ECG dataset used in this study is the CPSC2018 training dataset which is released by the 1st China Physiological Signal Challenge (CPSC) 2018 during the 7th International Conference on Biomedical Engineering and Biotechnology. Details of the CPSC2018 dataset can be found [here](https://bit.ly/3gus3D0). To access the processed data, click [here](https://www.dropbox.com/s/unicm8ulxt24vh8/CPSC.zip?dl=0).\n",
        "\n",
        "### Software\n",
        "\n",
        "- Python 3.7.4\n",
        "- Matplotlib 3.1.1\n",
        "- Numpy 1.17.2\n",
        "- Pandas 0.25.2\n",
        "- PyTorch 1.2.0\n",
        "- Scikit-learn 0.21.3\n",
        "- Scipy 1.3.1\n",
        "- Shap 0.35.1\n",
        "- Tqdm 4.36.1\n",
        "- Wfdb 2.2.1\n",
        "\n",
        "## Run\n",
        "\n",
        "### Preprocessing\n",
        "\n",
        "```sh\n",
        "$ python preprocess.py --data-dir data/CPSC\n",
        "```\n",
        "\n",
        "### Baselines\n",
        "\n",
        "```sh\n",
        "$ python baselines.py --data-dir data/CPSC --classifier LR\n",
        "```\n",
        "\n",
        "### Deep model\n",
        "\n",
        "```sh\n",
        "$ python main.py --data-dir data/CPSC --leads all --use-gpu # training\n",
        "$ python predict.py --data-dir data/CPSC --leads all --use-gpu # evaluation\n",
        "```\n",
        "\n",
        "### Interpretation\n",
        "\n",
        "```sh\n",
        "$ python shap_values.py --data-dir data/CPSC --use-gpu # visualizing shap values\n",
        "```"
      ]
    }
  ]
}