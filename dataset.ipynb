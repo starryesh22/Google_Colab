{
  "nbformat": 4,
  "nbformat_minor": 0,
  "metadata": {
    "colab": {
      "provenance": [],
      "authorship_tag": "ABX9TyOZUvkw5hoYlO20Ej92NybC",
      "include_colab_link": true
    },
    "kernelspec": {
      "name": "python3",
      "display_name": "Python 3"
    },
    "language_info": {
      "name": "python"
    }
  },
  "cells": [
    {
      "cell_type": "markdown",
      "metadata": {
        "id": "view-in-github",
        "colab_type": "text"
      },
      "source": [
        "<a href=\"https://colab.research.google.com/github/starryesh22/Test_Colab/blob/main/dataset.ipynb\" target=\"_parent\"><img src=\"https://colab.research.google.com/assets/colab-badge.svg\" alt=\"Open In Colab\"/></a>"
      ]
    },
    {
      "cell_type": "code",
      "execution_count": null,
      "metadata": {
        "id": "gVXfmzJs1gJz"
      },
      "outputs": [],
      "source": [
        "\n",
        "import os\n",
        "\n",
        "import torch\n",
        "from torch.utils.data import Dataset\n",
        "import pandas as pd\n",
        "import numpy as np\n",
        "import wfdb\n",
        "\n",
        "#1. scaling function\n",
        "def scaling(X, sigma=0.1):\n",
        "    scalingFactor = np.random.normal(loc=1.0, scale=sigma, size=(1, X.shape[1]))\n",
        "    myNoise = np.matmul(np.ones((X.shape[0], 1)), scalingFactor)\n",
        "    return X * myNoise\n",
        "\n",
        "#2. shift function\n",
        "def shift(sig, interval=20):\n",
        "    for col in range(sig.shape[1]):\n",
        "        offset = np.random.choice(range(-interval, interval))\n",
        "        sig[:, col] += offset / 1000 \n",
        "    return sig\n",
        "\n",
        "#3. transform function\n",
        "def transform(sig, train=False):\n",
        "    if train:\n",
        "        if np.random.randn() > 0.5: sig = scaling(sig)\n",
        "        if np.random.randn() > 0.5: sig = shift(sig)\n",
        "    return sig\n",
        "\n",
        "#4. class ECGDataset\n",
        "class ECGDataset(Dataset):\n",
        "    def __init__(self, phase, data_dir, label_csv, folds, leads):\n",
        "        super(ECGDataset, self).__init__()\n",
        "        self.phase = phase\n",
        "        df = pd.read_csv(label_csv)\n",
        "        df = df[df['fold'].isin(folds)]\n",
        "        self.data_dir = data_dir\n",
        "        self.labels = df\n",
        "        self.leads = ['I', 'II', 'III', 'aVR', 'aVL', 'aVF', 'V1', 'V2', 'V3', 'V4', 'V5', 'V6']\n",
        "        if leads == 'all':\n",
        "            self.use_leads = np.where(np.in1d(self.leads, self.leads))[0]\n",
        "        else:\n",
        "            self.use_leads = np.where(np.in1d(self.leads, leads))[0]\n",
        "        self.nleads = len(self.use_leads)\n",
        "        self.classes = ['SNR', 'AF', 'IAVB', 'LBBB', 'RBBB', 'PAC', 'PVC', 'STD', 'STE']\n",
        "        self.n_classes = len(self.classes)\n",
        "        self.data_dict = {}\n",
        "        self.label_dict = {}\n",
        "\n",
        "#5. getitem function\n",
        "    def __getitem__(self, index: int):\n",
        "        row = self.labels.iloc[index]\n",
        "        patient_id = row['patient_id']\n",
        "        ecg_data, _ = wfdb.rdsamp(os.path.join(self.data_dir, patient_id))\n",
        "        ecg_data = transform(ecg_data, self.phase == 'train')\n",
        "        nsteps, _ = ecg_data.shape\n",
        "        ecg_data = ecg_data[-15000:, self.use_leads]\n",
        "        result = np.zeros((15000, self.nleads)) # 30 s, 500 Hz\n",
        "        result[-nsteps:, :] = ecg_data\n",
        "        if self.label_dict.get(patient_id):\n",
        "            labels = self.label_dict.get(patient_id)\n",
        "        else:\n",
        "            labels = row[self.classes].to_numpy(dtype=np.float32)\n",
        "            self.label_dict[patient_id] = labels\n",
        "        return torch.from_numpy(result.transpose()).float(), torch.from_numpy(labels).float()\n",
        "\n",
        "    def __len__(self):\n",
        "        return len(self.labels)\n",
        "    "
      ]
    }
  ]
}