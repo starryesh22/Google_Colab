{
  "nbformat": 4,
  "nbformat_minor": 0,
  "metadata": {
    "colab": {
      "provenance": [],
      "authorship_tag": "ABX9TyORunFLF/s0Ej4mv+oLPI0Y",
      "include_colab_link": true
    },
    "kernelspec": {
      "name": "python3",
      "display_name": "Python 3"
    },
    "language_info": {
      "name": "python"
    }
  },
  "cells": [
    {
      "cell_type": "markdown",
      "metadata": {
        "id": "view-in-github",
        "colab_type": "text"
      },
      "source": [
        "<a href=\"https://colab.research.google.com/github/starryesh22/Test_Colab/blob/main/preprocess.ipynb\" target=\"_parent\"><img src=\"https://colab.research.google.com/assets/colab-badge.svg\" alt=\"Open In Colab\"/></a>"
      ]
    },
    {
      "cell_type": "code",
      "execution_count": null,
      "metadata": {
        "id": "V9gw6EU74KI8"
      },
      "outputs": [],
      "source": [
        "import wfdb\n",
        "import numpy as np\n",
        "import pandas as pd\n",
        "\n",
        "from glob import glob\n",
        "import argparse\n",
        "import os\n",
        "\n",
        "\n",
        "def gen_reference_csv(data_dir, reference_csv):\n",
        "    if not os.path.exists(reference_csv):\n",
        "        recordpaths = glob(os.path.join(data_dir, '*.hea'))\n",
        "        results = []\n",
        "        for recordpath in recordpaths:\n",
        "            patient_id = recordpath.split('/')[-1][:-4]\n",
        "            _, meta_data = wfdb.rdsamp(recordpath[:-4])\n",
        "            sample_rate = meta_data['fs']\n",
        "            signal_len = meta_data['sig_len']\n",
        "            age = meta_data['comments'][0]\n",
        "            sex = meta_data['comments'][1]\n",
        "            dx = meta_data['comments'][2]\n",
        "            age = age[5:] if age.startswith('Age: ') else np.NaN\n",
        "            sex = sex[5:] if sex.startswith('Sex: ') else 'Unknown'\n",
        "            dx = dx[4:] if dx.startswith('Dx: ') else ''\n",
        "            results.append([patient_id, sample_rate, signal_len, age, sex, dx])\n",
        "        df = pd.DataFrame(data=results, columns=['patient_id', 'sample_rate', 'signal_len', 'age', 'sex', 'dx'])\n",
        "        df.sort_values('patient_id').to_csv(reference_csv, index=None)\n",
        "\n",
        "\n",
        "def gen_label_csv(label_csv, reference_csv, dx_dict, classes):\n",
        "    if not os.path.exists(label_csv):\n",
        "        results = []\n",
        "        df_reference = pd.read_csv(reference_csv)\n",
        "        for _, row in df_reference.iterrows():\n",
        "            patient_id = row['patient_id']\n",
        "            dxs = [dx_dict.get(code, '') for code in row['dx'].split(',')]\n",
        "            labels = [0] * 9\n",
        "            for idx, label in enumerate(classes):\n",
        "                if label in dxs:\n",
        "                    labels[idx] = 1\n",
        "            results.append([patient_id] + labels)\n",
        "        df = pd.DataFrame(data=results, columns=['patient_id'] + classes)\n",
        "        n = len(df)\n",
        "        folds = np.zeros(n, dtype=np.int8)\n",
        "        for i in range(10):\n",
        "            start = int(n * i / 10)\n",
        "            end = int(n * (i + 1) / 10)\n",
        "            folds[start:end] = i + 1\n",
        "        df['fold'] = np.random.permutation(folds)\n",
        "        columns = df.columns\n",
        "        df['keep'] = df[classes].sum(axis=1)\n",
        "        df = df[df['keep'] > 0]\n",
        "        df[columns].to_csv(label_csv, index=None)\n",
        "\n",
        "\n",
        "if __name__ == \"__main__\":\n",
        "    leads = ['I', 'II', 'III', 'aVR', 'aVL', 'aVF', 'V1', 'V2', 'V3', 'V4', 'V5', 'V6']\n",
        "    dx_dict = {\n",
        "        '426783006': 'SNR', # Normal sinus rhythm\n",
        "        '164889003': 'AF', # Atrial fibrillation\n",
        "        '270492004': 'IAVB', # First-degree atrioventricular block\n",
        "        '164909002': 'LBBB', # Left bundle branch block\n",
        "        '713427006': 'RBBB', # Complete right bundle branch block\n",
        "        '59118001': 'RBBB', # Right bundle branch block\n",
        "        '284470004': 'PAC', # Premature atrial contraction\n",
        "        '63593006': 'PAC', # Supraventricular premature beats\n",
        "        '164884008': 'PVC', # Ventricular ectopics\n",
        "        '429622005': 'STD', # ST-segment depression\n",
        "        '164931005': 'STE', # ST-segment elevation\n",
        "    }\n",
        "    classes = ['SNR', 'AF', 'IAVB', 'LBBB', 'RBBB', 'PAC', 'PVC', 'STD', 'STE']\n",
        "    parser = argparse.ArgumentParser()\n",
        "    parser.add_argument('--data-dir', type=str, default='data/CPSC', help='Directory to dataset')\n",
        "    args = parser.parse_args()\n",
        "    data_dir = args.data_dir\n",
        "    reference_csv = os.path.join(data_dir, 'reference.csv')\n",
        "    label_csv = os.path.join(data_dir, 'labels.csv')\n",
        "    gen_reference_csv(data_dir, reference_csv)\n",
        "    gen_label_csv(label_csv, reference_csv, dx_dict, classes)\n"
      ]
    }
  ]
}